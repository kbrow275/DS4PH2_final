{
 "cells": [
  {
   "cell_type": "code",
   "execution_count": null,
   "id": "aa91d108",
   "metadata": {},
   "outputs": [],
   "source": [
    "import pandas as pd\n",
    "data = pd.read_csv(\"olympic_results.csv\")\n",
    "data_clean = data.drop(columns = ['participant_type', 'athletes', 'rank_equal', 'country_code', 'athlete_url', 'athlete_full_name', 'value_unit', 'value_type'])\n",
    "# split 'slug_game' into 'city' and 'year'\n",
    "data_clean[['city', 'year']] = data['slug_game'].str.rsplit('-', n=1, expand=True)\n",
    "# drop 'slug_game' column\n",
    "data_clean = data_clean.drop(columns=['slug_game'])\n",
    "# convert year to int\n",
    "data_clean['year'] = data_clean['year'].astype(int)\n",
    "# define known summer and winter olympics years\n",
    "summer_years = set(range(1896, 2025, 4)) - {1916, 1940, 1944}  # excluded cancelled years\n",
    "winter_years = set(range(1924, 2025, 4)) | {1994, 1998, 2002, 2006, 2010, 2014, 2018, 2022} - {1940, 1944}\n",
    "# assign season\n",
    "data_clean['season'] = data_clean['year'].apply(\n",
    "    lambda y: 'Summer' if y in summer_years else 'Winter' if y in winter_years else 'Unknown'\n",
    ")"
   ]
  },
  {
   "cell_type": "code",
   "execution_count": 15,
   "id": "109a5e2f",
   "metadata": {},
   "outputs": [
    {
     "name": "stdout",
     "output_type": "stream",
     "text": [
      "  discipline_title    event_title medal_type rank_position   country_name  \\\n",
      "0          Curling  Mixed Doubles       GOLD             1          Italy   \n",
      "1          Curling  Mixed Doubles     SILVER             2         Norway   \n",
      "2          Curling  Mixed Doubles     BRONZE             3         Sweden   \n",
      "3          Curling  Mixed Doubles        NaN             4  Great Britain   \n",
      "4          Curling  Mixed Doubles        NaN             5         Canada   \n",
      "\n",
      "  country_3_letter_code     city  year  season  \n",
      "0                   ITA  beijing  2022  Winter  \n",
      "1                   NOR  beijing  2022  Winter  \n",
      "2                   SWE  beijing  2022  Winter  \n",
      "3                   GBR  beijing  2022  Winter  \n",
      "4                   CAN  beijing  2022  Winter  \n"
     ]
    }
   ],
   "source": [
    "# print head of cleaned data\n",
    "print(data_clean.head())"
   ]
  }
 ],
 "metadata": {
  "kernelspec": {
   "display_name": "Python 3",
   "language": "python",
   "name": "python3"
  },
  "language_info": {
   "codemirror_mode": {
    "name": "ipython",
    "version": 3
   },
   "file_extension": ".py",
   "mimetype": "text/x-python",
   "name": "python",
   "nbconvert_exporter": "python",
   "pygments_lexer": "ipython3",
   "version": "3.13.0"
  }
 },
 "nbformat": 4,
 "nbformat_minor": 5
}
